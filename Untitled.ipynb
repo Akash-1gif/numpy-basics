{
 "cells": [
  {
   "cell_type": "code",
   "execution_count": 8,
   "id": "df617236",
   "metadata": {},
   "outputs": [],
   "source": [
    "import numpy as np"
   ]
  },
  {
   "cell_type": "code",
   "execution_count": 4,
   "id": "3391222d",
   "metadata": {},
   "outputs": [
    {
     "name": "stdout",
     "output_type": "stream",
     "text": [
      "[[1 2 3]\n",
      " [4 5 6]\n",
      " [7 8 9]]\n",
      "<class 'numpy.ndarray'>\n",
      "(3, 3)\n",
      "9\n"
     ]
    }
   ],
   "source": [
    "# simple numpy array methods \n",
    "a=np.array([[1,2,3],[4,5,6],[7,8,9]],dtype=\"int\")\n",
    "print(a)\n",
    "print(type(a))\n",
    "print(a.shape)\n",
    "print(a.size)"
   ]
  },
  {
   "cell_type": "code",
   "execution_count": 9,
   "id": "5ad6d2fa",
   "metadata": {},
   "outputs": [
    {
     "name": "stdout",
     "output_type": "stream",
     "text": [
      "[[1. 2. 3.]\n",
      " [4. 5. 6.]\n",
      " [7. 8. 9.]]\n"
     ]
    }
   ],
   "source": [
    "#creating numpy array with type float\n",
    "a=np.array(a,dtype=\"float\")\n",
    "print(a)"
   ]
  },
  {
   "cell_type": "code",
   "execution_count": 11,
   "id": "5a7d5c72",
   "metadata": {},
   "outputs": [
    {
     "name": "stdout",
     "output_type": "stream",
     "text": [
      "[[1 2 3]\n",
      " [4 5 6]\n",
      " [7 8 9]]\n",
      "<class 'numpy.ndarray'>\n"
     ]
    }
   ],
   "source": [
    "#creating numpy array using tuple:\n",
    "a=np.array(((1,2,3),(4,5,6),(7,8,9)))\n",
    "print(a)\n",
    "print(type(a))"
   ]
  },
  {
   "cell_type": "raw",
   "id": "d33a32ed",
   "metadata": {},
   "source": []
  },
  {
   "cell_type": "code",
   "execution_count": 18,
   "id": "b1d0d8ed",
   "metadata": {},
   "outputs": [
    {
     "name": "stdout",
     "output_type": "stream",
     "text": [
      "[[0 0 0]\n",
      " [0 0 0]\n",
      " [0 0 0]]\n"
     ]
    }
   ],
   "source": [
    "#creating numpy array with all elements as zeroes:\n",
    "a1=np.full((3,3),0,dtype=\"int\")\n",
    "print(a1)"
   ]
  },
  {
   "cell_type": "code",
   "execution_count": 43,
   "id": "3b710616",
   "metadata": {},
   "outputs": [
    {
     "name": "stdout",
     "output_type": "stream",
     "text": [
      "[[1 0 0]\n",
      " [0 1 0]\n",
      " [0 0 1]]\n"
     ]
    }
   ],
   "source": [
    "#making an identity matrix\n",
    "c=np.identity(3,dtype=\"int\")\n",
    "print(c)"
   ]
  },
  {
   "cell_type": "code",
   "execution_count": 21,
   "id": "f42b6d53",
   "metadata": {},
   "outputs": [
    {
     "name": "stdout",
     "output_type": "stream",
     "text": [
      "[1 2 3 4 5 6]\n",
      "After reshaping:\n",
      " [[1 2 3]\n",
      " [4 5 6]]\n"
     ]
    }
   ],
   "source": [
    "#reshaping of numpy array\n",
    "d=np.array([1,2,3,4,5,6])\n",
    "print(d)\n",
    "d=d.reshape(2,3)\n",
    "print(\"After reshaping:\\n\",d)"
   ]
  },
  {
   "cell_type": "code",
   "execution_count": 26,
   "id": "19544b78",
   "metadata": {},
   "outputs": [
    {
     "name": "stdout",
     "output_type": "stream",
     "text": [
      "initial array:\n",
      " [[1 2 3]\n",
      " [4 5 6]]\n",
      "the flattened array:\n",
      " [1 2 3 4 5 6]\n"
     ]
    }
   ],
   "source": [
    "#flattening a numpy array:\n",
    "d=d.reshape(2,3)\n",
    "print(\"initial array:\\n\",d)\n",
    "d=d.flatten()\n",
    "print(\"the flattened array:\\n\",d)"
   ]
  },
  {
   "cell_type": "code",
   "execution_count": 32,
   "id": "f308a79f",
   "metadata": {},
   "outputs": [
    {
     "name": "stdout",
     "output_type": "stream",
     "text": [
      "[[ 1  2]\n",
      " [ 5  6]\n",
      " [ 9 10]]\n",
      "\n",
      "\n",
      "[[ 1  4]\n",
      " [ 9 12]]\n"
     ]
    }
   ],
   "source": [
    "#slicing and indexing in a numpy array:\n",
    "a=np.array([[1,2,3,4],[5,6,7,8],[9,10,11,12],[13,14,15,16]])\n",
    "print(a[:3,:2]) \n",
    "print(\"\\n\")\n",
    "print(a[0:4:2,0:4:3])"
   ]
  },
  {
   "cell_type": "code",
   "execution_count": 36,
   "id": "c46e649a",
   "metadata": {},
   "outputs": [
    {
     "name": "stdout",
     "output_type": "stream",
     "text": [
      "elements present at a[1][0],a[3][3],a[2][1] are:\n",
      "[ 5 16 10]\n"
     ]
    }
   ],
   "source": [
    "#integer array indexing example:\n",
    "print(\"elements present at a[1][0],a[3][3],a[2][1] are:\")\n",
    "print(a[[1,3,2],[0,3,1]])"
   ]
  },
  {
   "cell_type": "code",
   "execution_count": 40,
   "id": "dec60057",
   "metadata": {},
   "outputs": [
    {
     "name": "stdout",
     "output_type": "stream",
     "text": [
      "[[False False  True False]\n",
      " [False  True False False]\n",
      " [ True False False  True]\n",
      " [False False  True False]]\n",
      "\n",
      "\n",
      "[ 3  6  9 12 15]\n"
     ]
    }
   ],
   "source": [
    "#boolean array indexing example:\n",
    "con=a%3==0\n",
    "print(con)\n",
    "print(\"\\n\")\n",
    "temp=a[con]\n",
    "print(temp)"
   ]
  },
  {
   "cell_type": "code",
   "execution_count": 41,
   "id": "4ebc91df",
   "metadata": {},
   "outputs": [
    {
     "name": "stdout",
     "output_type": "stream",
     "text": [
      "2 is added to every element in a:\n",
      "[[ 3  4  5  6]\n",
      " [ 7  8  9 10]\n",
      " [11 12 13 14]\n",
      " [15 16 17 18]]\n",
      "\n",
      "\n",
      "10 is subtracted from evey element in a:\n",
      "[[-9 -8 -7 -6]\n",
      " [-5 -4 -3 -2]\n",
      " [-1  0  1  2]\n",
      " [ 3  4  5  6]]\n",
      "\n",
      "\n",
      "2 is multiplied to every element in a:\n",
      "[[ 2  4  6  8]\n",
      " [10 12 14 16]\n",
      " [18 20 22 24]\n",
      " [26 28 30 32]]\n",
      "\n",
      "\n",
      "integer division is done to every element in a by 2:\n",
      "[[0 1 1 2]\n",
      " [2 3 3 4]\n",
      " [4 5 5 6]\n",
      " [6 7 7 8]]\n"
     ]
    }
   ],
   "source": [
    "#broadcasting feature:\n",
    "print(\"2 is added to every element in a:\")\n",
    "print(a+2)\n",
    "print(\"\\n\")\n",
    "print(\"10 is subtracted from evey element in a:\")\n",
    "print(a-10)\n",
    "print(\"\\n\")\n",
    "print(\"2 is multiplied to every element in a:\")\n",
    "print(a*2)\n",
    "print(\"\\n\")\n",
    "print(\"integer division is done to every element in a by 2:\")\n",
    "print(a//2)"
   ]
  },
  {
   "cell_type": "code",
   "execution_count": 42,
   "id": "c2e634af",
   "metadata": {},
   "outputs": [
    {
     "name": "stdout",
     "output_type": "stream",
     "text": [
      "[[ 1  5  9 13]\n",
      " [ 2  6 10 14]\n",
      " [ 3  7 11 15]\n",
      " [ 4  8 12 16]]\n"
     ]
    }
   ],
   "source": [
    "#transpose of  2D array\n",
    "print(a.T)"
   ]
  },
  {
   "cell_type": "code",
   "execution_count": 46,
   "id": "3ead8557",
   "metadata": {},
   "outputs": [
    {
     "name": "stdout",
     "output_type": "stream",
     "text": [
      "the highest valued element in a array is  16\n",
      "row wise matrix elements: [ 4  8 12 16]\n",
      "column wise matrix elements: [ 4  8 12 16]\n"
     ]
    }
   ],
   "source": [
    "#maximum element in numpy array:\n",
    "print(\"the highest valued element in a array is \",a.max())\n",
    "print(\"row wise matrix elements:\",a.max(axis=1))\n",
    "print(\"column wise matrix elements:\",a.max(axis=1))"
   ]
  },
  {
   "cell_type": "code",
   "execution_count": 49,
   "id": "ce33161b",
   "metadata": {},
   "outputs": [
    {
     "name": "stdout",
     "output_type": "stream",
     "text": [
      "sum of x and y matrices:\n",
      " [[ 4 13  3]\n",
      " [ 5  8 14]\n",
      " [16  9  5]]\n",
      "difference of x and y matrices:\n",
      " [[ 0 -1 -1]\n",
      " [ 3 -4 -4]\n",
      " [ 2  7  1]]\n",
      "cartesian product of x with y is:\n",
      " [[ 4 42  2]\n",
      " [ 4 12 45]\n",
      " [63  8  6]]\n",
      "dot produxt of x and y is=\n",
      " [[ 17  51  60]\n",
      " [ 45  45  36]\n",
      " [ 47 114  96]]\n"
     ]
    }
   ],
   "source": [
    "#matrix operations:\n",
    "x=np.array([[2,6,1],[4,2,5],[9,8,3]])\n",
    "y=np.array([[2,7,2],[1,6,9],[7,1,2]])\n",
    "print(\"sum of x and y matrices:\\n\",x+y)\n",
    "print(\"difference of x and y matrices:\\n\",x-y)\n",
    "print(\"cartesian product of x with y is:\\n\",x*y)\n",
    "print(\"dot produxt of x and y is=\\n\",x.dot(y))\n"
   ]
  },
  {
   "cell_type": "code",
   "execution_count": 52,
   "id": "166570e9",
   "metadata": {},
   "outputs": [
    {
     "name": "stdout",
     "output_type": "stream",
     "text": [
      "the sine values of all elements in array p are:\n",
      " [ 0.         -0.98803162 -0.30481062  0.89399666  0.58061118]\n",
      "the cosine values of all elements in array are:\n",
      " [ 1.          0.15425145 -0.95241298 -0.44807362  0.81418097]\n",
      "expoenent of each element in array p are:\n",
      " [ 2.71828183  7.3890561  20.08553692 54.59815003]\n",
      "square root of each element in an array is:\n",
      " [ 1.          8.          3.         14.86606875]\n"
     ]
    }
   ],
   "source": [
    "p=np.array([0,30,60,90,120])\n",
    "print(\"the sine values of all elements in array p are:\\n\",np.sin(p))\n",
    "print(\"the cosine values of all elements in array are:\\n\",np.cos(p))\n",
    "p=np.array([1,2,3,4])\n",
    "print(\"expoenent of each element in array p are:\\n\",np.exp(p))\n",
    "p=np.array([1,64,9,221])\n",
    "print(\"square root of each element in an array is:\\n\",np.sqrt(p))"
   ]
  },
  {
   "cell_type": "code",
   "execution_count": 55,
   "id": "9d5f1711",
   "metadata": {},
   "outputs": [
    {
     "name": "stdout",
     "output_type": "stream",
     "text": [
      "sum of all elements in array a are= 136\n",
      "cummulative sum of each row in array a are=\n",
      " [[ 1  3  6 10]\n",
      " [ 5 11 18 26]\n",
      " [ 9 19 30 42]\n",
      " [13 27 42 58]]\n",
      "cummulative sum of each column in array a are=\n",
      " [[ 1  2  3  4]\n",
      " [ 6  8 10 12]\n",
      " [15 18 21 24]\n",
      " [28 32 36 40]]\n"
     ]
    }
   ],
   "source": [
    "#sum and cummulative sum:\n",
    "print(\"sum of all elements in array a are=\",a.sum())\n",
    "print(\"cummulative sum of each row in array a are=\\n\",a.cumsum(axis=1))\n",
    "print(\"cummulative sum of each column in array a are=\\n\",a.cumsum(axis=0))"
   ]
  },
  {
   "cell_type": "code",
   "execution_count": 58,
   "id": "51a210f4",
   "metadata": {},
   "outputs": [
    {
     "name": "stdout",
     "output_type": "stream",
     "text": [
      "array a1 in sorted order:\n",
      " [2 3 4 5 6 6 7 8 8]\n",
      "row wise in sorted order:\n",
      " [[3 5 7]\n",
      " [2 6 8]\n",
      " [4 6 8]]\n",
      "column wise in sorted order:\n",
      " [[2 6 5]\n",
      " [3 7 6]\n",
      " [4 8 8]]\n"
     ]
    }
   ],
   "source": [
    "#sorting arrays\n",
    "a1=np.array([[3,7,5],[2,6,8],[4,8,6]])\n",
    "print(\"array a1 in sorted order:\\n\",np.sort(a1,axis=None))\n",
    "print(\"row wise in sorted order:\\n\",np.sort(a1,axis=1))\n",
    "print(\"column wise in sorted order:\\n\",np.sort(a1,axis=0))"
   ]
  },
  {
   "cell_type": "code",
   "execution_count": null,
   "id": "4d30e36f",
   "metadata": {},
   "outputs": [],
   "source": []
  }
 ],
 "metadata": {
  "kernelspec": {
   "display_name": "Python 3 (ipykernel)",
   "language": "python",
   "name": "python3"
  },
  "language_info": {
   "codemirror_mode": {
    "name": "ipython",
    "version": 3
   },
   "file_extension": ".py",
   "mimetype": "text/x-python",
   "name": "python",
   "nbconvert_exporter": "python",
   "pygments_lexer": "ipython3",
   "version": "3.9.7"
  }
 },
 "nbformat": 4,
 "nbformat_minor": 5
}
